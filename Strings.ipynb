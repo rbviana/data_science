{
  "nbformat": 4,
  "nbformat_minor": 0,
  "metadata": {
    "colab": {
      "name": "Strings.ipynb",
      "provenance": [],
      "collapsed_sections": [],
      "authorship_tag": "ABX9TyPU8Dam7nI/dpvg5WPWjpHT",
      "include_colab_link": true
    },
    "kernelspec": {
      "name": "python3",
      "display_name": "Python 3"
    }
  },
  "cells": [
    {
      "cell_type": "markdown",
      "metadata": {
        "id": "view-in-github",
        "colab_type": "text"
      },
      "source": [
        "<a href=\"https://colab.research.google.com/github/rbviana/data_science/blob/main/Strings.ipynb\" target=\"_parent\"><img src=\"https://colab.research.google.com/assets/colab-badge.svg\" alt=\"Open In Colab\"/></a>"
      ]
    },
    {
      "cell_type": "markdown",
      "metadata": {
        "id": "Rc1GoPqIjYRd"
      },
      "source": [
        "# Strings\n",
        "\n",
        "Strings são caracteres declarados entre aspas(simples pu duplas), sendo que esses caracteres podem ser símbolos, números ou letras.\n",
        "\n",
        "<center><img width=\"50%\" src=\"https://image.freepik.com/free-photo/words-letter-made-with-wooden-cubes-brown-desk_23-2148101481.jpg\n",
        "\"></center>\n",
        "\n"
      ]
    },
    {
      "cell_type": "code",
      "metadata": {
        "colab": {
          "base_uri": "https://localhost:8080/"
        },
        "id": "l2op3BV5kF8s",
        "outputId": "f04424fb-14e9-448f-8a0f-d24a87ec24ac"
      },
      "source": [
        "# verificando o tipo\n",
        "nome = 'Renata Viana'\n",
        "type(nome)"
      ],
      "execution_count": 3,
      "outputs": [
        {
          "output_type": "execute_result",
          "data": {
            "text/plain": [
              "str"
            ]
          },
          "metadata": {
            "tags": []
          },
          "execution_count": 3
        }
      ]
    },
    {
      "cell_type": "markdown",
      "metadata": {
        "id": "w-V6r2JekRU_"
      },
      "source": [
        "Para imprimir *strings*, eu informo as mesmas dentro da função `print()`."
      ]
    },
    {
      "cell_type": "code",
      "metadata": {
        "colab": {
          "base_uri": "https://localhost:8080/"
        },
        "id": "WZpMYEJ1kYRV",
        "outputId": "97ab9ca5-1cf7-4dde-f724-0f200c22e2e0"
      },
      "source": [
        "print(nome, 30)"
      ],
      "execution_count": 5,
      "outputs": [
        {
          "output_type": "stream",
          "text": [
            "Renata Viana 30\n"
          ],
          "name": "stdout"
        }
      ]
    },
    {
      "cell_type": "code",
      "metadata": {
        "colab": {
          "base_uri": "https://localhost:8080/"
        },
        "id": "0isD9g0wkbom",
        "outputId": "5466d66b-93ac-4846-810f-124def22741c"
      },
      "source": [
        "# associando strings às variáveis\n",
        "nome = 'Renata'\n",
        "sobrenome = 'Viana'\n",
        "profissao = 'Analista de Sistemas'\n",
        "\n",
        "# imprimir nome completo\n",
        "print('Nome completo:')\n",
        "print(nome, sobrenome)\n",
        "\n",
        "# imprimir profissão\n",
        "print(profissao)"
      ],
      "execution_count": 6,
      "outputs": [
        {
          "output_type": "stream",
          "text": [
            "Nome completo:\n",
            "Renata Viana\n",
            "Analista de Sistemas\n"
          ],
          "name": "stdout"
        }
      ]
    },
    {
      "cell_type": "markdown",
      "metadata": {
        "id": "zBJzsRKHlCq_"
      },
      "source": [
        "É possível acessar os caracteres individuais dentro de uma string. Para isso, basta informar a posição desejada entre colchetes.\n",
        "\n",
        "**Lembre-se sempre que a linguagem Python (assim como a maioria) começa com uma indexação em 0.** Veja como as posições da *string* `Carlos` estão distribuidas:\n",
        "\n",
        "| **0** | **1** | **2** | **3** | **4** | **5** |\n",
        "|:-----:|:-----:|:-----:|:-----:|:-----:|:-----:|\n",
        "| R     | e     | n     | a     | t     | a     |\n",
        "\n",
        "Uma dica, para acessar a última letra de uma *string* é só colocar `[-1]` ao final da mesma."
      ]
    },
    {
      "cell_type": "code",
      "metadata": {
        "colab": {
          "base_uri": "https://localhost:8080/",
          "height": 35
        },
        "id": "ABsvUBdDlO-G",
        "outputId": "9052bceb-4b43-4b0c-881e-71e72e6ea39e"
      },
      "source": [
        "# criando a variável\n",
        "nome = 'Renata'\n",
        "\n",
        "# ver qual é a primeira letra da variável nome\n",
        "nome[0]"
      ],
      "execution_count": 7,
      "outputs": [
        {
          "output_type": "execute_result",
          "data": {
            "application/vnd.google.colaboratory.intrinsic+json": {
              "type": "string"
            },
            "text/plain": [
              "'R'"
            ]
          },
          "metadata": {
            "tags": []
          },
          "execution_count": 7
        }
      ]
    },
    {
      "cell_type": "code",
      "metadata": {
        "colab": {
          "base_uri": "https://localhost:8080/",
          "height": 35
        },
        "id": "Ur9LNvyJlnIu",
        "outputId": "0f30d01d-9121-4c03-ccea-445f9a09866f"
      },
      "source": [
        "# ver qual a última letra da variável nome\n",
        "nome[-1]"
      ],
      "execution_count": 8,
      "outputs": [
        {
          "output_type": "execute_result",
          "data": {
            "application/vnd.google.colaboratory.intrinsic+json": {
              "type": "string"
            },
            "text/plain": [
              "'a'"
            ]
          },
          "metadata": {
            "tags": []
          },
          "execution_count": 8
        }
      ]
    },
    {
      "cell_type": "markdown",
      "metadata": {
        "id": "Uhs8haeels8-"
      },
      "source": [
        "## Função `len()`\n",
        "\n",
        "Para saber o tamanho de uma *string*, existe no Python uma função chamada `len()`, que irá sempre retornar um valor do tipo `int`."
      ]
    },
    {
      "cell_type": "code",
      "metadata": {
        "colab": {
          "base_uri": "https://localhost:8080/"
        },
        "id": "tf6QQ-Pvlv_y",
        "outputId": "3958469c-6362-44bf-fa78-01a47d8f2413"
      },
      "source": [
        "# verificar o tamanho da sequência de um DNA\n",
        "dna = 'ATGCGGACCTAT'\n",
        "\n",
        "len(dna)"
      ],
      "execution_count": 9,
      "outputs": [
        {
          "output_type": "execute_result",
          "data": {
            "text/plain": [
              "12"
            ]
          },
          "metadata": {
            "tags": []
          },
          "execution_count": 9
        }
      ]
    },
    {
      "cell_type": "markdown",
      "metadata": {
        "id": "qUHkVifsmH5b"
      },
      "source": [
        "## Função `split()`\n",
        "\n",
        "A função `split()` serve para você separar strings baseando-se em um delimitador. Por exemplo. a variável nome da célula abaixo contém 3 nomes separados por vírgulas.\n",
        "\n",
        "Para eu extrair esses nomes, basta eu executar `nomes.split(',')`, e o Python vai me retornar uma lista com 3 itens."
      ]
    },
    {
      "cell_type": "code",
      "metadata": {
        "colab": {
          "base_uri": "https://localhost:8080/"
        },
        "id": "kIb4_cv9mq9Y",
        "outputId": "acc8faa5-cfc5-4506-886c-c00ee5202809"
      },
      "source": [
        "nomes = \"Renata, Rayane, Renato\"\n",
        "\n",
        "nomes.split(',')"
      ],
      "execution_count": 10,
      "outputs": [
        {
          "output_type": "execute_result",
          "data": {
            "text/plain": [
              "['Renata', ' Rayane', ' Renato']"
            ]
          },
          "metadata": {
            "tags": []
          },
          "execution_count": 10
        }
      ]
    },
    {
      "cell_type": "markdown",
      "metadata": {
        "id": "F2F6NkV8m56Y"
      },
      "source": [
        "## Função `replace()`\n",
        "\n",
        "Como o nome já diz, ela serve para substituir caracteres dentro de uma string."
      ]
    },
    {
      "cell_type": "code",
      "metadata": {
        "id": "tEdTtHm2nFJd"
      },
      "source": [
        "# criando a variável\n",
        "valor = '9,50'"
      ],
      "execution_count": 11,
      "outputs": []
    },
    {
      "cell_type": "code",
      "metadata": {
        "colab": {
          "base_uri": "https://localhost:8080/"
        },
        "id": "ouvvqKv2nIhD",
        "outputId": "ab9e29c8-1c7f-4f82-c334-7934d3866aa4"
      },
      "source": [
        "# trocando a vírgula por ponto\n",
        "float(valor.replace(',', '.'))"
      ],
      "execution_count": 12,
      "outputs": [
        {
          "output_type": "execute_result",
          "data": {
            "text/plain": [
              "9.5"
            ]
          },
          "metadata": {
            "tags": []
          },
          "execution_count": 12
        }
      ]
    },
    {
      "cell_type": "markdown",
      "metadata": {
        "id": "knZxFzMrnQiB"
      },
      "source": [
        "## Função `strip()`\n",
        "\n"
      ]
    },
    {
      "cell_type": "markdown",
      "metadata": {
        "id": "Bxw6akZ6ne3X"
      },
      "source": [
        "Remove os espaços em branco ou caracteres indesejados."
      ]
    },
    {
      "cell_type": "code",
      "metadata": {
        "colab": {
          "base_uri": "https://localhost:8080/",
          "height": 35
        },
        "id": "5WeM4IJMno98",
        "outputId": "f8a72825-59d9-4c4c-e8d8-ef6ac8c75bea"
      },
      "source": [
        "# criando a variável\n",
        "nome = '          Renata Viana           '\n",
        "\n",
        "# utilizando a função strip\n",
        "nome.strip()"
      ],
      "execution_count": 13,
      "outputs": [
        {
          "output_type": "execute_result",
          "data": {
            "application/vnd.google.colaboratory.intrinsic+json": {
              "type": "string"
            },
            "text/plain": [
              "'Renata Viana'"
            ]
          },
          "metadata": {
            "tags": []
          },
          "execution_count": 13
        }
      ]
    },
    {
      "cell_type": "markdown",
      "metadata": {
        "id": "LyVsXDuxn4PK"
      },
      "source": [
        "Imagine que quando você importou seus dados eles vieram da seguinte forma: `R$9,00`.\n",
        "\n",
        "Se você quiser converter para um número, precisa antes eliminar os caracteres `R$`."
      ]
    },
    {
      "cell_type": "code",
      "metadata": {
        "colab": {
          "base_uri": "https://localhost:8080/",
          "height": 35
        },
        "id": "e0sUJuaLoH7i",
        "outputId": "1524475d-1777-4406-97fe-a64e39e81992"
      },
      "source": [
        "# buscando somente o valor sem o simbolo de reais\n",
        "'R$9,50'.strip('R$')"
      ],
      "execution_count": 14,
      "outputs": [
        {
          "output_type": "execute_result",
          "data": {
            "application/vnd.google.colaboratory.intrinsic+json": {
              "type": "string"
            },
            "text/plain": [
              "'9,50'"
            ]
          },
          "metadata": {
            "tags": []
          },
          "execution_count": 14
        }
      ]
    },
    {
      "cell_type": "code",
      "metadata": {
        "colab": {
          "base_uri": "https://localhost:8080/",
          "height": 35
        },
        "id": "qjqarfxgoPuO",
        "outputId": "1406bb84-7a3f-4cd5-9b84-f2c9aad6ac37"
      },
      "source": [
        "# trocando a vírgula por ponto \n",
        "\"R$ 9,50\".strip('R$').replace(',', '.')"
      ],
      "execution_count": 15,
      "outputs": [
        {
          "output_type": "execute_result",
          "data": {
            "application/vnd.google.colaboratory.intrinsic+json": {
              "type": "string"
            },
            "text/plain": [
              "' 9.50'"
            ]
          },
          "metadata": {
            "tags": []
          },
          "execution_count": 15
        }
      ]
    },
    {
      "cell_type": "code",
      "metadata": {
        "colab": {
          "base_uri": "https://localhost:8080/"
        },
        "id": "KBQAIO2Vonfj",
        "outputId": "482beb38-4d7e-449a-9521-4db49e24531b"
      },
      "source": [
        "# transformando string em float\n",
        "float('R$ 9,50'.strip('R$').replace(',', '.'))"
      ],
      "execution_count": 17,
      "outputs": [
        {
          "output_type": "execute_result",
          "data": {
            "text/plain": [
              "9.5"
            ]
          },
          "metadata": {
            "tags": []
          },
          "execution_count": 17
        }
      ]
    },
    {
      "cell_type": "markdown",
      "metadata": {
        "id": "UbSC3Qoto-hb"
      },
      "source": [
        "## Slicing\n",
        "\n",
        "O Python nos permite \"cortar\" as nossas strings, técnica chamada `slicing`."
      ]
    },
    {
      "cell_type": "code",
      "metadata": {
        "id": "vHqz0ZKIpIst"
      },
      "source": [
        "nome = 'Renata'"
      ],
      "execution_count": 18,
      "outputs": []
    },
    {
      "cell_type": "markdown",
      "metadata": {
        "id": "bqWOEioWpLUH"
      },
      "source": [
        "Para fazer o `slicing`, nós chamamos a variável a ser \"fatiada\", e colocamos entre colchetes o index de início e fim, separados por `:`.\n",
        "\n",
        "* [0] - R\n",
        "* [1] - e\n",
        "* [2] - n\n",
        "* [3] - a\n",
        "* [4] - t\n",
        "* [5] - a\n",
        "\n",
        "É importante saber que a posição final não é incluída. Ou seja, se chamarmos o slicing da seguinte forma:\n",
        "\n",
        "nome[2:4], teríamos como retorno as letras\n",
        "* [2] - n\n",
        "* [3] - a\n",
        "\n",
        "pois a letra `t` na posição quatro, nãoé incluída no slicing.\n"
      ]
    },
    {
      "cell_type": "code",
      "metadata": {
        "colab": {
          "base_uri": "https://localhost:8080/",
          "height": 35
        },
        "id": "cMxte1C-qGC_",
        "outputId": "500c8603-3d46-4038-8e2c-d4eb56d4636f"
      },
      "source": [
        "# slicing da variável nome\n",
        "nome[2:4]"
      ],
      "execution_count": 19,
      "outputs": [
        {
          "output_type": "execute_result",
          "data": {
            "application/vnd.google.colaboratory.intrinsic+json": {
              "type": "string"
            },
            "text/plain": [
              "'na'"
            ]
          },
          "metadata": {
            "tags": []
          },
          "execution_count": 19
        }
      ]
    },
    {
      "cell_type": "markdown",
      "metadata": {
        "id": "SKeG2nvlqk38"
      },
      "source": [
        "Também podemos omitir uma das variáveis, e isso fará que o slicing comece desde o primeiro index, e termine no último"
      ]
    },
    {
      "cell_type": "code",
      "metadata": {
        "colab": {
          "base_uri": "https://localhost:8080/",
          "height": 35
        },
        "id": "lA__G4Q2qs-t",
        "outputId": "486a0820-7737-4f88-e37d-42590c4fe607"
      },
      "source": [
        "# slicing do começo ao 4\n",
        "nome[:4]"
      ],
      "execution_count": 20,
      "outputs": [
        {
          "output_type": "execute_result",
          "data": {
            "application/vnd.google.colaboratory.intrinsic+json": {
              "type": "string"
            },
            "text/plain": [
              "'Rena'"
            ]
          },
          "metadata": {
            "tags": []
          },
          "execution_count": 20
        }
      ]
    },
    {
      "cell_type": "code",
      "metadata": {
        "colab": {
          "base_uri": "https://localhost:8080/",
          "height": 35
        },
        "id": "TcwMmPbSqwfP",
        "outputId": "209add0b-1a21-4400-c8f9-fc7deb5be989"
      },
      "source": [
        "# slicing do 2 ao fim\n",
        "nome[2:]"
      ],
      "execution_count": 21,
      "outputs": [
        {
          "output_type": "execute_result",
          "data": {
            "application/vnd.google.colaboratory.intrinsic+json": {
              "type": "string"
            },
            "text/plain": [
              "'nata'"
            ]
          },
          "metadata": {
            "tags": []
          },
          "execution_count": 21
        }
      ]
    },
    {
      "cell_type": "markdown",
      "metadata": {
        "id": "i8vBZRcRq-t9"
      },
      "source": [
        "Podemos adicionar as strings. Podemos fazer isso também usando slicing."
      ]
    },
    {
      "cell_type": "code",
      "metadata": {
        "colab": {
          "base_uri": "https://localhost:8080/"
        },
        "id": "hqThCcy9rDzA",
        "outputId": "4eae87b0-ff71-4653-f859-0f7413e99af2"
      },
      "source": [
        "print('Nome Completo: ', nome)\n",
        "print('Primeira parte: ', nome[:3])\n",
        "print('Seunda parte: ', nome[3:] )\n",
        "print('Nome feito adicionando Slices: ', nome[:3] + nome[3:] )"
      ],
      "execution_count": 22,
      "outputs": [
        {
          "output_type": "stream",
          "text": [
            "Nome Completo:  Renata\n",
            "Primeira parte:  Ren\n",
            "Seunda parte:  ata\n",
            "Nome feito adicionando Slices:  Renata\n"
          ],
          "name": "stdout"
        }
      ]
    },
    {
      "cell_type": "markdown",
      "metadata": {
        "id": "6mfmxOFFt_cu"
      },
      "source": [
        "Ainda falando de slices, nós também podemos definir um *step*, ou um passo de intervalo, para que os caracteres sejam pulados."
      ]
    },
    {
      "cell_type": "code",
      "metadata": {
        "colab": {
          "base_uri": "https://localhost:8080/"
        },
        "id": "SQH3dYlZuJm3",
        "outputId": "c83b3b1c-e9d5-4dee-d345-8e108ef7e99c"
      },
      "source": [
        "# criando a variável\n",
        "num = '123456789'\n",
        "print(num)"
      ],
      "execution_count": 23,
      "outputs": [
        {
          "output_type": "stream",
          "text": [
            "123456789\n"
          ],
          "name": "stdout"
        }
      ]
    },
    {
      "cell_type": "markdown",
      "metadata": {
        "id": "Xkg42GovuWWQ"
      },
      "source": [
        "Como temos 27 caracteres, isso significa que nossos índices vão do 0 a0 26, totalizando 27.\n",
        "\n",
        "Podemos usar o slicing para mostrar apenas os números i[ímpares, por exemplo, basta acrescentar um dígito extra, que é o `step`."
      ]
    },
    {
      "cell_type": "code",
      "metadata": {
        "colab": {
          "base_uri": "https://localhost:8080/",
          "height": 35
        },
        "id": "EXqhd-_Wu8g5",
        "outputId": "6924d1b3-7c62-4829-d7ec-4a47fafa52dc"
      },
      "source": [
        "# slicing da variável num, começando do primeiro caractere, indo até o último\n",
        "# em step 2, ou seja mostra um pula um\n",
        "num[::2]"
      ],
      "execution_count": 24,
      "outputs": [
        {
          "output_type": "execute_result",
          "data": {
            "application/vnd.google.colaboratory.intrinsic+json": {
              "type": "string"
            },
            "text/plain": [
              "'13579'"
            ]
          },
          "metadata": {
            "tags": []
          },
          "execution_count": 24
        }
      ]
    },
    {
      "cell_type": "code",
      "metadata": {
        "colab": {
          "base_uri": "https://localhost:8080/",
          "height": 35
        },
        "id": "u2rZPieXvOr5",
        "outputId": "0ae2507c-9560-4de5-ab81-d72834f20078"
      },
      "source": [
        "# para visualizarmos os pares, basta começar da posição 2\n",
        "# aqui temos dois `:`, pois indicamos o início, até (:) o final (:) e step 2.\n",
        "num[1::2]"
      ],
      "execution_count": 25,
      "outputs": [
        {
          "output_type": "execute_result",
          "data": {
            "application/vnd.google.colaboratory.intrinsic+json": {
              "type": "string"
            },
            "text/plain": [
              "'2468'"
            ]
          },
          "metadata": {
            "tags": []
          },
          "execution_count": 25
        }
      ]
    },
    {
      "cell_type": "markdown",
      "metadata": {
        "id": "wE03CHdxwc3l"
      },
      "source": [
        "## Convertendo Strings\n",
        "\n",
        "Por padrão, podemos usar o Python para converter as strings em maíusculas, minúsculas, etc.\n",
        "\n",
        "Esse processos são bastante úteis ao tratarmos dados em formato string."
      ]
    },
    {
      "cell_type": "code",
      "metadata": {
        "id": "kroeuFKdw0C2"
      },
      "source": [
        "# criando a variável a ser manipulada\n",
        "nome = 'josé Santos da Silva'"
      ],
      "execution_count": 26,
      "outputs": []
    },
    {
      "cell_type": "code",
      "metadata": {
        "colab": {
          "base_uri": "https://localhost:8080/",
          "height": 35
        },
        "id": "hwKS2g_Bw05B",
        "outputId": "7bb384a3-edc4-4741-fb25-add855ee957e"
      },
      "source": [
        "nome"
      ],
      "execution_count": 27,
      "outputs": [
        {
          "output_type": "execute_result",
          "data": {
            "application/vnd.google.colaboratory.intrinsic+json": {
              "type": "string"
            },
            "text/plain": [
              "'josé Santos da Silva'"
            ]
          },
          "metadata": {
            "tags": []
          },
          "execution_count": 27
        }
      ]
    },
    {
      "cell_type": "markdown",
      "metadata": {
        "id": "M32CUBMrw4Ge"
      },
      "source": [
        "## capitalize()\n",
        "\n",
        "Essa função transforma o primeiro caractere em maiúsculo."
      ]
    },
    {
      "cell_type": "code",
      "metadata": {
        "colab": {
          "base_uri": "https://localhost:8080/",
          "height": 35
        },
        "id": "OLbBPl5fw_2-",
        "outputId": "710bc5f4-821e-44f0-ea9f-64804c8974ec"
      },
      "source": [
        "# utilizando capitalze\n",
        "nome.capitalize()"
      ],
      "execution_count": 28,
      "outputs": [
        {
          "output_type": "execute_result",
          "data": {
            "application/vnd.google.colaboratory.intrinsic+json": {
              "type": "string"
            },
            "text/plain": [
              "'José santos da silva'"
            ]
          },
          "metadata": {
            "tags": []
          },
          "execution_count": 28
        }
      ]
    },
    {
      "cell_type": "markdown",
      "metadata": {
        "id": "Ta3MXg2AxG34"
      },
      "source": [
        "## lower()\n",
        "\n",
        "Essa função transforma todos os carateres em minúsculo."
      ]
    },
    {
      "cell_type": "code",
      "metadata": {
        "colab": {
          "base_uri": "https://localhost:8080/",
          "height": 35
        },
        "id": "tQH-2y7ExNjo",
        "outputId": "262926f8-72a6-4a3d-a787-97bb50577f7f"
      },
      "source": [
        "# utilizando lower\n",
        "nome.lower()"
      ],
      "execution_count": 29,
      "outputs": [
        {
          "output_type": "execute_result",
          "data": {
            "application/vnd.google.colaboratory.intrinsic+json": {
              "type": "string"
            },
            "text/plain": [
              "'josé santos da silva'"
            ]
          },
          "metadata": {
            "tags": []
          },
          "execution_count": 29
        }
      ]
    },
    {
      "cell_type": "markdown",
      "metadata": {
        "id": "dpovX5THxTD6"
      },
      "source": [
        "## upper()\n",
        "\n",
        "Para tornar todas maiúsculas, basta usar essa função."
      ]
    },
    {
      "cell_type": "code",
      "metadata": {
        "colab": {
          "base_uri": "https://localhost:8080/",
          "height": 35
        },
        "id": "oN--6KmLxX_4",
        "outputId": "ccedb2b1-7157-4379-a79c-2366fe613d32"
      },
      "source": [
        "# utilizando upper\n",
        "nome.upper()"
      ],
      "execution_count": 30,
      "outputs": [
        {
          "output_type": "execute_result",
          "data": {
            "application/vnd.google.colaboratory.intrinsic+json": {
              "type": "string"
            },
            "text/plain": [
              "'JOSÉ SANTOS DA SILVA'"
            ]
          },
          "metadata": {
            "tags": []
          },
          "execution_count": 30
        }
      ]
    },
    {
      "cell_type": "markdown",
      "metadata": {
        "id": "msHZIqjsxcj8"
      },
      "source": [
        "## title()\n",
        "\n",
        "Essa função transforma a primeira letra de cada palavra em maúscula."
      ]
    },
    {
      "cell_type": "code",
      "metadata": {
        "colab": {
          "base_uri": "https://localhost:8080/",
          "height": 35
        },
        "id": "cL_PzHNuxit_",
        "outputId": "79b73448-82e0-4f25-ad8c-98e2ac47dc81"
      },
      "source": [
        "# utilizando titl\n",
        "nome.title()"
      ],
      "execution_count": 31,
      "outputs": [
        {
          "output_type": "execute_result",
          "data": {
            "application/vnd.google.colaboratory.intrinsic+json": {
              "type": "string"
            },
            "text/plain": [
              "'José Santos Da Silva'"
            ]
          },
          "metadata": {
            "tags": []
          },
          "execution_count": 31
        }
      ]
    },
    {
      "cell_type": "markdown",
      "metadata": {
        "id": "BrcGOkfsxnYm"
      },
      "source": [
        "## swapcase()\n",
        "\n",
        "Aquii iremos inverter as coisas, trasnformando maiúsculas em minúsculas, e vice-versa."
      ]
    },
    {
      "cell_type": "code",
      "metadata": {
        "colab": {
          "base_uri": "https://localhost:8080/",
          "height": 35
        },
        "id": "jzsA6cMlxv8B",
        "outputId": "6dec4b3f-552e-411e-ef2e-8c0ad6487e47"
      },
      "source": [
        "# utilizando swapcase\n",
        "nome.swapcase()"
      ],
      "execution_count": 32,
      "outputs": [
        {
          "output_type": "execute_result",
          "data": {
            "application/vnd.google.colaboratory.intrinsic+json": {
              "type": "string"
            },
            "text/plain": [
              "'JOSÉ sANTOS DA sILVA'"
            ]
          },
          "metadata": {
            "tags": []
          },
          "execution_count": 32
        }
      ]
    },
    {
      "cell_type": "markdown",
      "metadata": {
        "id": "1R-1qT9Yx3hW"
      },
      "source": [
        "# Exercícios\n",
        "\n",
        "Escreva seu nome e sobrenome, como nos exemplos acima, e imprima ele na tela usando a função `print()`:\n"
      ]
    },
    {
      "cell_type": "code",
      "metadata": {
        "colab": {
          "base_uri": "https://localhost:8080/"
        },
        "id": "HLvHDt4TymsF",
        "outputId": "623dbaf5-dcac-4ca1-99d3-5dd086681126"
      },
      "source": [
        "nome = 'Renata'\n",
        "sobrenome = 'Borges'\n",
        "sufixo = 'Viana'\n",
        "\n",
        "# imprimindo nome completo\n",
        "print(nome, sobrenome, sufixo)"
      ],
      "execution_count": 33,
      "outputs": [
        {
          "output_type": "stream",
          "text": [
            "Renata Borges Viana\n"
          ],
          "name": "stdout"
        }
      ]
    },
    {
      "cell_type": "markdown",
      "metadata": {
        "id": "EKGxVyjVzG7c"
      },
      "source": [
        "## Exercicío 2\n",
        "\n",
        "Verifique o tamaho da *string* da variável `sha1_hash` abaixo:"
      ]
    },
    {
      "cell_type": "code",
      "metadata": {
        "colab": {
          "base_uri": "https://localhost:8080/"
        },
        "id": "18eFv0z4zSaZ",
        "outputId": "697eafc2-afc2-4b67-9d90-6d554de9105a"
      },
      "source": [
        "sha1_hash = 'b91552e0b2b2183e85a4371020ab6b9f4ef83ed0'\n",
        "\n",
        "# verificando o tamanho da variável\n",
        "len(sha1_hash)"
      ],
      "execution_count": 34,
      "outputs": [
        {
          "output_type": "execute_result",
          "data": {
            "text/plain": [
              "40"
            ]
          },
          "metadata": {
            "tags": []
          },
          "execution_count": 34
        }
      ]
    },
    {
      "cell_type": "markdown",
      "metadata": {
        "id": "spQNtxy-zew1"
      },
      "source": [
        "## Exercício 3\n",
        "\n",
        "Converta a string `85,00 kg` em uma variável do tipo float."
      ]
    },
    {
      "cell_type": "code",
      "metadata": {
        "colab": {
          "base_uri": "https://localhost:8080/"
        },
        "id": "dG0m6w9dznaz",
        "outputId": "327566c3-7e8e-4f3c-a862-841a5e6ad56c"
      },
      "source": [
        "peso = \"85,00 kg\"\n",
        "\n",
        "# trasnformando a string em float\n",
        "float(peso.strip('kg').replace(',', '.'))\n"
      ],
      "execution_count": 48,
      "outputs": [
        {
          "output_type": "execute_result",
          "data": {
            "text/plain": [
              "85.0"
            ]
          },
          "metadata": {
            "tags": []
          },
          "execution_count": 48
        }
      ]
    },
    {
      "cell_type": "markdown",
      "metadata": {
        "id": "1AAk52Xk0_85"
      },
      "source": [
        "## Exercício 4\n",
        "\n",
        "Faça o que se pede com a variável em cada uma das células abaixo."
      ]
    },
    {
      "cell_type": "code",
      "metadata": {
        "id": "URzIx5-41FVe"
      },
      "source": [
        "# criando a variável\n",
        "x = 'Data, Science, é, demais!'"
      ],
      "execution_count": 57,
      "outputs": []
    },
    {
      "cell_type": "code",
      "metadata": {
        "colab": {
          "base_uri": "https://localhost:8080/"
        },
        "id": "ozNCEzWs1aoc",
        "outputId": "97d0878c-da93-4f21-d7c2-149cc3ce441d"
      },
      "source": [
        "# a) imprima a quantidade de caracteres na variável x\n",
        "print(len(x))"
      ],
      "execution_count": 58,
      "outputs": [
        {
          "output_type": "stream",
          "text": [
            "25\n"
          ],
          "name": "stdout"
        }
      ]
    },
    {
      "cell_type": "code",
      "metadata": {
        "id": "rx01-TZM1gAE"
      },
      "source": [
        "# b) retire as vírgulas da variável\n",
        "x = x.replace(',', '')"
      ],
      "execution_count": 85,
      "outputs": []
    },
    {
      "cell_type": "code",
      "metadata": {
        "colab": {
          "base_uri": "https://localhost:8080/",
          "height": 35
        },
        "id": "cUPw8zeq1rS6",
        "outputId": "ab9d4cad-6dac-4c39-c94a-28e51151d58a"
      },
      "source": [
        "# c) imprima apenas os 6 primeiros caracteres da variável\n",
        "x[:6]"
      ],
      "execution_count": 86,
      "outputs": [
        {
          "output_type": "execute_result",
          "data": {
            "application/vnd.google.colaboratory.intrinsic+json": {
              "type": "string"
            },
            "text/plain": [
              "'Data S'"
            ]
          },
          "metadata": {
            "tags": []
          },
          "execution_count": 86
        }
      ]
    },
    {
      "cell_type": "code",
      "metadata": {
        "colab": {
          "base_uri": "https://localhost:8080/",
          "height": 35
        },
        "id": "TeM6ZdpT1-9n",
        "outputId": "3b2775de-3c16-4d65-f13e-43ccba86bc70"
      },
      "source": [
        "# d) imprima todos os caracteres, mostrando um e pulando um\n",
        "x[::2]"
      ],
      "execution_count": 88,
      "outputs": [
        {
          "output_type": "execute_result",
          "data": {
            "application/vnd.google.colaboratory.intrinsic+json": {
              "type": "string"
            },
            "text/plain": [
              "'Dt cec  eas'"
            ]
          },
          "metadata": {
            "tags": []
          },
          "execution_count": 88
        }
      ]
    },
    {
      "cell_type": "code",
      "metadata": {
        "colab": {
          "base_uri": "https://localhost:8080/",
          "height": 35
        },
        "id": "xpnQKH1j2Aci",
        "outputId": "f2907fc1-c3d8-46f5-98a4-b20162827924"
      },
      "source": [
        "# e) transforme todas as letras em maiúsculas\n",
        "x.upper()"
      ],
      "execution_count": 89,
      "outputs": [
        {
          "output_type": "execute_result",
          "data": {
            "application/vnd.google.colaboratory.intrinsic+json": {
              "type": "string"
            },
            "text/plain": [
              "'DATA SCIENCE É DEMAIS!'"
            ]
          },
          "metadata": {
            "tags": []
          },
          "execution_count": 89
        }
      ]
    },
    {
      "cell_type": "code",
      "metadata": {
        "colab": {
          "base_uri": "https://localhost:8080/",
          "height": 35
        },
        "id": "0EP2GErN2Bfu",
        "outputId": "64885ef4-98f2-4da5-a349-3ae1f65325c0"
      },
      "source": [
        "# f) transforme todas as letras em minúsculas\n",
        "x.lower()"
      ],
      "execution_count": 90,
      "outputs": [
        {
          "output_type": "execute_result",
          "data": {
            "application/vnd.google.colaboratory.intrinsic+json": {
              "type": "string"
            },
            "text/plain": [
              "'data science é demais!'"
            ]
          },
          "metadata": {
            "tags": []
          },
          "execution_count": 90
        }
      ]
    }
  ]
}