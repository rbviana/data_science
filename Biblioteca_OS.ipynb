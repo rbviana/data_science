{
  "nbformat": 4,
  "nbformat_minor": 0,
  "metadata": {
    "colab": {
      "name": "Biblioteca OS.ipynb",
      "provenance": [],
      "collapsed_sections": [],
      "authorship_tag": "ABX9TyPV7ruV2cW39W+km+jxgYE/",
      "include_colab_link": true
    },
    "kernelspec": {
      "name": "python3",
      "display_name": "Python 3"
    }
  },
  "cells": [
    {
      "cell_type": "markdown",
      "metadata": {
        "id": "view-in-github",
        "colab_type": "text"
      },
      "source": [
        "<a href=\"https://colab.research.google.com/github/rbviana/data_science/blob/main/Biblioteca_OS.ipynb\" target=\"_parent\"><img src=\"https://colab.research.google.com/assets/colab-badge.svg\" alt=\"Open In Colab\"/></a>"
      ]
    },
    {
      "cell_type": "markdown",
      "metadata": {
        "id": "l0g877muputC"
      },
      "source": [
        "# Biblioteca OS\n",
        "\n",
        "A biblioteca OS nos dá a possibilidade de interagir com o Sistema Operacional atráves do Python. Com ela, podemos acessar, modificar, mover, apagar arquivos entre muitas outras funções.\n",
        "\n",
        "<center><img width=\"40%\" src = \"https://github.com/rbviana/data_science/blob/main/img/code.jpg?raw=true\" /></center>"
      ]
    },
    {
      "cell_type": "code",
      "metadata": {
        "id": "P7jamZKgt776"
      },
      "source": [
        "# importando a biblioteca\n",
        "import os"
      ],
      "execution_count": null,
      "outputs": []
    },
    {
      "cell_type": "markdown",
      "metadata": {
        "id": "i7ZRAanOuY3K"
      },
      "source": [
        "## getcwd()\n",
        "\n",
        "Em tradução livre o comando `getcwd` *Get Current Directory* significa \"pegar o diretório atual\"."
      ]
    },
    {
      "cell_type": "code",
      "metadata": {
        "colab": {
          "base_uri": "https://localhost:8080/",
          "height": 35
        },
        "id": "akRmYZ2aub0K",
        "outputId": "7cdc74b3-7a3d-4c2d-be9a-ee45631383a4"
      },
      "source": [
        "# verificar o diretório atual\n",
        "os.getcwd()"
      ],
      "execution_count": null,
      "outputs": [
        {
          "output_type": "execute_result",
          "data": {
            "application/vnd.google.colaboratory.intrinsic+json": {
              "type": "string"
            },
            "text/plain": [
              "'/content'"
            ]
          },
          "metadata": {
            "tags": []
          },
          "execution_count": 2
        }
      ]
    },
    {
      "cell_type": "markdown",
      "metadata": {
        "id": "-Qx6zxW8u6jI"
      },
      "source": [
        "## chdir()\n",
        "\n",
        "Saber mudar de pasta é importante."
      ]
    },
    {
      "cell_type": "code",
      "metadata": {
        "id": "qovoc9i_vCd6"
      },
      "source": [
        "# mudar de diretório\n",
        "os.chdir(\"/content/sample_data\")"
      ],
      "execution_count": null,
      "outputs": []
    },
    {
      "cell_type": "markdown",
      "metadata": {
        "id": "Jee1EuaYvNUk"
      },
      "source": [
        "## listdir()\n",
        "\n",
        "Outra função interessante é listar o conteúdo dentro do diretório atual."
      ]
    },
    {
      "cell_type": "code",
      "metadata": {
        "colab": {
          "base_uri": "https://localhost:8080/"
        },
        "id": "uNe2OWWVvelY",
        "outputId": "80792689-f4f8-42ef-d062-9ea9f592af39"
      },
      "source": [
        "# listar conteúdo do diretório atual\n",
        "os.listdir()"
      ],
      "execution_count": null,
      "outputs": [
        {
          "output_type": "execute_result",
          "data": {
            "text/plain": [
              "['anscombe.json',\n",
              " 'README.md',\n",
              " 'mnist_test.csv',\n",
              " 'california_housing_train.csv',\n",
              " 'mnist_train_small.csv',\n",
              " 'california_housing_test.csv']"
            ]
          },
          "metadata": {
            "tags": []
          },
          "execution_count": 5
        }
      ]
    },
    {
      "cell_type": "markdown",
      "metadata": {
        "id": "8SkGyHT1vm6v"
      },
      "source": [
        "## open() / close()\n",
        "\n",
        "Para abrir determinado arquivo, usamos a função `open()`. Após terminarmos de trabalhar com esse arquivo, podemos fechar o mesmo utilizando o `close()`.\n",
        "\n",
        "Se atente para o fato de que podemos abrir um arquivo para **leitura('r')**, para **escrita('w')**, ou para **acrescentar('a')**."
      ]
    },
    {
      "cell_type": "code",
      "metadata": {
        "id": "kln4SNEAwKAC"
      },
      "source": [
        "# criando o arquivo\n",
        "arquivo = \"arquivo.txt\"\n",
        "\n",
        "# abrindo o arquivo no modo que permite escrita\n",
        "file = open(arquivo, 'w')\n",
        "file.write(\"#FamíliaSigmoidal\")\n",
        "file.close()"
      ],
      "execution_count": null,
      "outputs": []
    },
    {
      "cell_type": "code",
      "metadata": {
        "colab": {
          "base_uri": "https://localhost:8080/"
        },
        "id": "b7Wfyk0ywjEY",
        "outputId": "d506da2f-b671-4cac-ca5b-c28f1c558fb6"
      },
      "source": [
        "# conferindo a criação do arquivo\n",
        "os.listdir()"
      ],
      "execution_count": null,
      "outputs": [
        {
          "output_type": "execute_result",
          "data": {
            "text/plain": [
              "['anscombe.json',\n",
              " 'README.md',\n",
              " 'arquivo.txt',\n",
              " 'mnist_test.csv',\n",
              " 'california_housing_train.csv',\n",
              " 'mnist_train_small.csv',\n",
              " 'california_housing_test.csv']"
            ]
          },
          "metadata": {
            "tags": []
          },
          "execution_count": 7
        }
      ]
    },
    {
      "cell_type": "code",
      "metadata": {
        "colab": {
          "base_uri": "https://localhost:8080/"
        },
        "id": "YbN3_f0qwnQ6",
        "outputId": "04661155-7abf-40d9-d08e-0163f08b78cd"
      },
      "source": [
        "# abrindo o arquivo para leitura\n",
        "file = open('arquivo.txt', 'r')\n",
        "\n",
        "# lendo o arquivo\n",
        "print(file.read())\n",
        "\n",
        "# fechar o arquivo\n",
        "file.close()"
      ],
      "execution_count": null,
      "outputs": [
        {
          "output_type": "stream",
          "text": [
            "#FamíliaSigmoidal\n"
          ],
          "name": "stdout"
        }
      ]
    },
    {
      "cell_type": "markdown",
      "metadata": {
        "id": "t31hvl0vw_pc"
      },
      "source": [
        "Também é possível usar a função `with` para manter o arquivo aberto enquanto o manipulamos utilizando os comandos acima.\n",
        "\n",
        "Outra possibilidade para criação de arquivo. Quando abrimos um arquivo para escrever, caso ele não exista, ele é criado."
      ]
    },
    {
      "cell_type": "code",
      "metadata": {
        "id": "5BFVqkl3xeWT"
      },
      "source": [
        "# criando e escrevendo no arquivo\n",
        "with open('teste.txt', 'w') as txt:\n",
        "  txt.write(\"Testando a função\")"
      ],
      "execution_count": null,
      "outputs": []
    },
    {
      "cell_type": "markdown",
      "metadata": {
        "id": "gIUUE0UFxtIy"
      },
      "source": [
        "Acrescentando uma informação em um arquivo existente."
      ]
    },
    {
      "cell_type": "code",
      "metadata": {
        "id": "l_yLrz9txwip"
      },
      "source": [
        "# adicionado informações no arquivo\n",
        "with open('teste.txt', 'a') as txt:\n",
        "  txt.write(\"\\nMais Teste informações\")"
      ],
      "execution_count": null,
      "outputs": []
    },
    {
      "cell_type": "code",
      "metadata": {
        "colab": {
          "base_uri": "https://localhost:8080/"
        },
        "id": "s0tBW4BSx7Ws",
        "outputId": "83dab30b-f29a-4a99-b73e-3123bc22c072"
      },
      "source": [
        "# lendo o arquivo\n",
        "with open('teste.txt', 'r') as txt:\n",
        "  print(txt.read())"
      ],
      "execution_count": null,
      "outputs": [
        {
          "output_type": "stream",
          "text": [
            "\n",
            "Mais Teste informações\n"
          ],
          "name": "stdout"
        }
      ]
    },
    {
      "cell_type": "markdown",
      "metadata": {
        "id": "uG_KIbrvyMe0"
      },
      "source": [
        "## rename()\n",
        "\n",
        "Um arquivo pode ser renomeado usando a função `rename()`."
      ]
    },
    {
      "cell_type": "code",
      "metadata": {
        "colab": {
          "base_uri": "https://localhost:8080/"
        },
        "id": "VLJ3aC79yi6i",
        "outputId": "444f7d11-4e12-4cd0-f932-4951e61c9ea2"
      },
      "source": [
        "# renomeando o arquivo\n",
        "os.rename('teste.txt', 'novo_teste.txt') \n",
        "\n",
        "# verificando que o nome do arquivo foi mudado\n",
        "os.listdir()"
      ],
      "execution_count": null,
      "outputs": [
        {
          "output_type": "execute_result",
          "data": {
            "text/plain": [
              "['anscombe.json',\n",
              " 'README.md',\n",
              " 'arquivo.txt',\n",
              " 'novo_teste.txt',\n",
              " 'renomeando.txt',\n",
              " 'mnist_test.csv',\n",
              " 'california_housing_train.csv',\n",
              " 'mnist_train_small.csv',\n",
              " 'california_housing_test.csv']"
            ]
          },
          "metadata": {
            "tags": []
          },
          "execution_count": 24
        }
      ]
    },
    {
      "cell_type": "markdown",
      "metadata": {
        "id": "YO5SPRQcy9NH"
      },
      "source": [
        "# Exercícios\n",
        "\n",
        "<center><img width=\"40%\" src=\"https://github.com/rbviana/data_science/blob/main/img/workout.jpg?raw=true\" /> </center>"
      ]
    },
    {
      "cell_type": "markdown",
      "metadata": {
        "id": "5mM3W71_0cuj"
      },
      "source": [
        "## Exercício 1\n",
        "\n",
        "Importe a biblioteca OS e verifique:"
      ]
    },
    {
      "cell_type": "code",
      "metadata": {
        "id": "pDQ-sL3S0iqM"
      },
      "source": [
        "# importando a biblioteca\n",
        "import os"
      ],
      "execution_count": null,
      "outputs": []
    },
    {
      "cell_type": "code",
      "metadata": {
        "colab": {
          "base_uri": "https://localhost:8080/",
          "height": 35
        },
        "id": "D1WxH7tt0mQ_",
        "outputId": "4b03cfc9-833a-48f2-a375-7564aa2e1bbd"
      },
      "source": [
        "# verificando diretório atual\n",
        "os.getcwd()"
      ],
      "execution_count": null,
      "outputs": [
        {
          "output_type": "execute_result",
          "data": {
            "application/vnd.google.colaboratory.intrinsic+json": {
              "type": "string"
            },
            "text/plain": [
              "'/content/sample_data'"
            ]
          },
          "metadata": {
            "tags": []
          },
          "execution_count": 27
        }
      ]
    },
    {
      "cell_type": "code",
      "metadata": {
        "colab": {
          "base_uri": "https://localhost:8080/"
        },
        "id": "xWLIUnW-0o2o",
        "outputId": "770e7b3d-77b6-4e38-c42c-d1e3513c4c97"
      },
      "source": [
        "# listando arquivos do diretório\n",
        "os.listdir()"
      ],
      "execution_count": null,
      "outputs": [
        {
          "output_type": "execute_result",
          "data": {
            "text/plain": [
              "['anscombe.json',\n",
              " 'README.md',\n",
              " 'arquivo.txt',\n",
              " 'novo_teste.txt',\n",
              " 'renomeando.txt',\n",
              " 'mnist_test.csv',\n",
              " 'california_housing_train.csv',\n",
              " 'mnist_train_small.csv',\n",
              " 'california_housing_test.csv']"
            ]
          },
          "metadata": {
            "tags": []
          },
          "execution_count": 28
        }
      ]
    },
    {
      "cell_type": "markdown",
      "metadata": {
        "id": "dHIj9L9c02ZB"
      },
      "source": [
        "## Exercício 2\n",
        "\n",
        "Faça o que se pede na célula abaixo:"
      ]
    },
    {
      "cell_type": "code",
      "metadata": {
        "id": "hGNM4PVg07TS"
      },
      "source": [
        "# crie um arquivo chamado aluno.txt e escreva nele o seu nome\n",
        "with open(\"aluno.txt\", 'w') as aluno:\n",
        "  aluno.write(\"Nome: Renata Borges Viana\")"
      ],
      "execution_count": null,
      "outputs": []
    },
    {
      "cell_type": "code",
      "metadata": {
        "id": "hr1Y9SbC1dbD"
      },
      "source": [
        "# acrescente sua idade e profissão\n",
        "with open(\"aluno.txt\", 'a') as aluno:\n",
        "  aluno.write(\"\\nIdade: 30 anos \\nProfissão: Analista de Sistemas\")"
      ],
      "execution_count": null,
      "outputs": []
    },
    {
      "cell_type": "code",
      "metadata": {
        "colab": {
          "base_uri": "https://localhost:8080/"
        },
        "id": "YWDngPgF1f7h",
        "outputId": "72ee56a1-2070-4335-e51f-af97cc3151b3"
      },
      "source": [
        "# leia as informações contidas no arquivo\n",
        "with open(\"aluno.txt\", 'r') as aluno:\n",
        "  print(aluno.read())"
      ],
      "execution_count": null,
      "outputs": [
        {
          "output_type": "stream",
          "text": [
            "Nome: Renata Borges Viana\n",
            "Idade: 30 anos \n",
            "Profissão: Analista de Sistemas\n"
          ],
          "name": "stdout"
        }
      ]
    },
    {
      "cell_type": "markdown",
      "metadata": {
        "id": "JYTPylkY2f6b"
      },
      "source": [
        "## Exercício 3\n",
        "\n",
        "Renomeie o arquivo para sigmoidal.txt"
      ]
    },
    {
      "cell_type": "code",
      "metadata": {
        "id": "6eCoy-mp2lv2"
      },
      "source": [
        "# renomeie o arquivo\n",
        "os.rename(\"aluno.txt\", \"sigmoidal.txt\")"
      ],
      "execution_count": null,
      "outputs": []
    },
    {
      "cell_type": "code",
      "metadata": {
        "colab": {
          "base_uri": "https://localhost:8080/"
        },
        "id": "AbWEZJxj2wRc",
        "outputId": "087e610e-2781-42ef-b257-1e859b3cdae1"
      },
      "source": [
        "os.listdir()"
      ],
      "execution_count": null,
      "outputs": [
        {
          "output_type": "execute_result",
          "data": {
            "text/plain": [
              "['anscombe.json',\n",
              " 'README.md',\n",
              " 'arquivo.txt',\n",
              " 'sigmoidal.txt',\n",
              " 'novo_teste.txt',\n",
              " 'renomeando.txt',\n",
              " 'mnist_test.csv',\n",
              " 'california_housing_train.csv',\n",
              " 'mnist_train_small.csv',\n",
              " 'california_housing_test.csv']"
            ]
          },
          "metadata": {
            "tags": []
          },
          "execution_count": 47
        }
      ]
    }
  ]
}